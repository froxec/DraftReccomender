{
 "cells": [
  {
   "cell_type": "code",
   "execution_count": 6,
   "outputs": [],
   "source": [
    "import random\n",
    "from sortedcontainers import SortedList\n",
    "import arrow\n",
    "\n",
    "import cassiopeia as cass\n",
    "from cassiopeia.core import Summoner, MatchHistory, Match\n",
    "from cassiopeia import Queue, Patch\n",
    "from cassiopeia.data import Continent"
   ],
   "metadata": {
    "collapsed": false
   }
  },
  {
   "cell_type": "code",
   "execution_count": 9,
   "metadata": {
    "collapsed": true
   },
   "outputs": [
    {
     "name": "stdout",
     "output_type": "stream",
     "text": [
      "Making call: https://euw1.api.riotgames.com/lol/league/v4/challengerleagues/by-queue/RANKED_SOLO_5x5\n"
     ]
    },
    {
     "ename": "KeyError",
     "evalue": "401",
     "output_type": "error",
     "traceback": [
      "\u001B[1;31m---------------------------------------------------------------------------\u001B[0m",
      "\u001B[1;31mAttributeError\u001B[0m                            Traceback (most recent call last)",
      "File \u001B[1;32m~\\PycharmProjects\\DraftReccomender\\venv\\lib\\site-packages\\merakicommons\\cache.py:15\u001B[0m, in \u001B[0;36mlazy.<locals>.wrapper\u001B[1;34m(self)\u001B[0m\n\u001B[0;32m     14\u001B[0m \u001B[38;5;28;01mtry\u001B[39;00m:\n\u001B[1;32m---> 15\u001B[0m     \u001B[38;5;28;01mreturn\u001B[39;00m \u001B[38;5;28;43mgetattr\u001B[39;49m\u001B[43m(\u001B[49m\u001B[38;5;28;43mself\u001B[39;49m\u001B[43m,\u001B[49m\u001B[43m \u001B[49m\u001B[43ms\u001B[49m\u001B[43m)\u001B[49m\n\u001B[0;32m     16\u001B[0m \u001B[38;5;28;01mexcept\u001B[39;00m \u001B[38;5;167;01mAttributeError\u001B[39;00m:\n",
      "\u001B[1;31mAttributeError\u001B[0m: 'ChallengerLeague' object has no attribute '_lazy__entries'",
      "\nDuring handling of the above exception, another exception occurred:\n",
      "\u001B[1;31mAttributeError\u001B[0m                            Traceback (most recent call last)",
      "File \u001B[1;32m~\\PycharmProjects\\DraftReccomender\\venv\\lib\\site-packages\\merakicommons\\ghost.py:41\u001B[0m, in \u001B[0;36mghost_load_on.<locals>.decorator.<locals>.wrapper\u001B[1;34m(*args, **kwargs)\u001B[0m\n\u001B[0;32m     40\u001B[0m \u001B[38;5;28;01mtry\u001B[39;00m:\n\u001B[1;32m---> 41\u001B[0m     \u001B[38;5;28;01mreturn\u001B[39;00m method(\u001B[38;5;241m*\u001B[39margs, \u001B[38;5;241m*\u001B[39m\u001B[38;5;241m*\u001B[39mkwargs)\n\u001B[0;32m     42\u001B[0m \u001B[38;5;28;01mexcept\u001B[39;00m errors \u001B[38;5;28;01mas\u001B[39;00m error:\n",
      "File \u001B[1;32m~\\PycharmProjects\\DraftReccomender\\venv\\lib\\site-packages\\merakicommons\\cache.py:17\u001B[0m, in \u001B[0;36mlazy.<locals>.wrapper\u001B[1;34m(self)\u001B[0m\n\u001B[0;32m     16\u001B[0m \u001B[38;5;28;01mexcept\u001B[39;00m \u001B[38;5;167;01mAttributeError\u001B[39;00m:\n\u001B[1;32m---> 17\u001B[0m     value \u001B[38;5;241m=\u001B[39m \u001B[43mmethod\u001B[49m\u001B[43m(\u001B[49m\u001B[38;5;28;43mself\u001B[39;49m\u001B[43m)\u001B[49m\n\u001B[0;32m     18\u001B[0m     \u001B[38;5;28msetattr\u001B[39m(\u001B[38;5;28mself\u001B[39m, s, value)\n",
      "File \u001B[1;32m~\\PycharmProjects\\DraftReccomender\\venv\\lib\\site-packages\\cassiopeia\\core\\league.py:554\u001B[0m, in \u001B[0;36mChallengerLeague.entries\u001B[1;34m(self)\u001B[0m\n\u001B[0;32m    547\u001B[0m \u001B[38;5;129m@CassiopeiaGhost\u001B[39m\u001B[38;5;241m.\u001B[39mproperty(ChallengerLeagueListData)\n\u001B[0;32m    548\u001B[0m \u001B[38;5;129m@ghost_load_on\u001B[39m\n\u001B[0;32m    549\u001B[0m \u001B[38;5;129m@lazy\u001B[39m\n\u001B[0;32m    550\u001B[0m \u001B[38;5;28;01mdef\u001B[39;00m \u001B[38;5;21mentries\u001B[39m(\u001B[38;5;28mself\u001B[39m) \u001B[38;5;241m-\u001B[39m\u001B[38;5;241m>\u001B[39m List[LeagueEntry]:\n\u001B[0;32m    551\u001B[0m     \u001B[38;5;28;01mreturn\u001B[39;00m SearchableList(\n\u001B[0;32m    552\u001B[0m         [\n\u001B[0;32m    553\u001B[0m             LeagueEntry\u001B[38;5;241m.\u001B[39mfrom_data(entry)\n\u001B[1;32m--> 554\u001B[0m             \u001B[38;5;28;01mfor\u001B[39;00m entry \u001B[38;5;129;01min\u001B[39;00m \u001B[38;5;28;43mself\u001B[39;49m\u001B[38;5;241;43m.\u001B[39;49m\u001B[43m_data\u001B[49m\u001B[43m[\u001B[49m\u001B[43mChallengerLeagueListData\u001B[49m\u001B[43m]\u001B[49m\u001B[38;5;241;43m.\u001B[39;49m\u001B[43mentries\u001B[49m\n\u001B[0;32m    555\u001B[0m         ]\n\u001B[0;32m    556\u001B[0m     )\n",
      "\u001B[1;31mAttributeError\u001B[0m: 'ChallengerLeagueListData' object has no attribute 'entries'",
      "\nDuring handling of the above exception, another exception occurred:\n",
      "\u001B[1;31mGhostLoadingRequiredError\u001B[0m                 Traceback (most recent call last)",
      "File \u001B[1;32m~\\PycharmProjects\\DraftReccomender\\venv\\lib\\site-packages\\merakicommons\\ghost.py:87\u001B[0m, in \u001B[0;36mGhost.__property.__get__\u001B[1;34m(self, obj, obj_type)\u001B[0m\n\u001B[0;32m     86\u001B[0m \u001B[38;5;28;01mtry\u001B[39;00m:\n\u001B[1;32m---> 87\u001B[0m     \u001B[38;5;28;01mreturn\u001B[39;00m \u001B[38;5;28;43mself\u001B[39;49m\u001B[38;5;241;43m.\u001B[39;49m\u001B[43mfget\u001B[49m\u001B[43m(\u001B[49m\u001B[43mobj\u001B[49m\u001B[43m)\u001B[49m\n\u001B[0;32m     88\u001B[0m \u001B[38;5;28;01mexcept\u001B[39;00m GhostLoadingRequiredError:\n",
      "File \u001B[1;32m~\\PycharmProjects\\DraftReccomender\\venv\\lib\\site-packages\\merakicommons\\ghost.py:43\u001B[0m, in \u001B[0;36mghost_load_on.<locals>.decorator.<locals>.wrapper\u001B[1;34m(*args, **kwargs)\u001B[0m\n\u001B[0;32m     42\u001B[0m \u001B[38;5;28;01mexcept\u001B[39;00m errors \u001B[38;5;28;01mas\u001B[39;00m error:\n\u001B[1;32m---> 43\u001B[0m     \u001B[38;5;28;01mraise\u001B[39;00m GhostLoadingRequiredError(\u001B[38;5;28mstr\u001B[39m(error))\n",
      "\u001B[1;31mGhostLoadingRequiredError\u001B[0m: 'ChallengerLeagueListData' object has no attribute 'entries'",
      "\nDuring handling of the above exception, another exception occurred:\n",
      "\u001B[1;31mHTTPError\u001B[0m                                 Traceback (most recent call last)",
      "File \u001B[1;32m~\\PycharmProjects\\DraftReccomender\\venv\\lib\\site-packages\\cassiopeia\\datastores\\riotapi\\common.py:334\u001B[0m, in \u001B[0;36mRiotAPIRequest.__call__\u001B[1;34m(self)\u001B[0m\n\u001B[0;32m    333\u001B[0m \u001B[38;5;28;01mtry\u001B[39;00m:\n\u001B[1;32m--> 334\u001B[0m     body, response_headers \u001B[38;5;241m=\u001B[39m \u001B[38;5;28;43mself\u001B[39;49m\u001B[38;5;241;43m.\u001B[39;49m\u001B[43mservice\u001B[49m\u001B[38;5;241;43m.\u001B[39;49m\u001B[43m_client\u001B[49m\u001B[38;5;241;43m.\u001B[39;49m\u001B[43mget\u001B[49m\u001B[43m(\u001B[49m\n\u001B[0;32m    335\u001B[0m \u001B[43m        \u001B[49m\u001B[43murl\u001B[49m\u001B[38;5;241;43m=\u001B[39;49m\u001B[38;5;28;43mself\u001B[39;49m\u001B[38;5;241;43m.\u001B[39;49m\u001B[43murl\u001B[49m\u001B[43m,\u001B[49m\n\u001B[0;32m    336\u001B[0m \u001B[43m        \u001B[49m\u001B[43mparameters\u001B[49m\u001B[38;5;241;43m=\u001B[39;49m\u001B[38;5;28;43mself\u001B[39;49m\u001B[38;5;241;43m.\u001B[39;49m\u001B[43mparameters\u001B[49m\u001B[43m,\u001B[49m\n\u001B[0;32m    337\u001B[0m \u001B[43m        \u001B[49m\u001B[43mheaders\u001B[49m\u001B[38;5;241;43m=\u001B[39;49m\u001B[38;5;28;43mself\u001B[39;49m\u001B[38;5;241;43m.\u001B[39;49m\u001B[43mservice\u001B[49m\u001B[38;5;241;43m.\u001B[39;49m\u001B[43m_headers\u001B[49m\u001B[43m,\u001B[49m\n\u001B[0;32m    338\u001B[0m \u001B[43m        \u001B[49m\u001B[43mrate_limiters\u001B[49m\u001B[38;5;241;43m=\u001B[39;49m\u001B[43m[\u001B[49m\u001B[38;5;28;43mself\u001B[39;49m\u001B[38;5;241;43m.\u001B[39;49m\u001B[43mapp_limiter\u001B[49m\u001B[43m,\u001B[49m\u001B[43m \u001B[49m\u001B[38;5;28;43mself\u001B[39;49m\u001B[38;5;241;43m.\u001B[39;49m\u001B[43mmethod_limiter\u001B[49m\u001B[43m]\u001B[49m\u001B[43m,\u001B[49m\n\u001B[0;32m    339\u001B[0m \u001B[43m        \u001B[49m\u001B[43mconnection\u001B[49m\u001B[38;5;241;43m=\u001B[39;49m\u001B[38;5;28;43mself\u001B[39;49m\u001B[38;5;241;43m.\u001B[39;49m\u001B[43mconnection\u001B[49m\u001B[43m,\u001B[49m\n\u001B[0;32m    340\u001B[0m \u001B[43m    \u001B[49m\u001B[43m)\u001B[49m\n\u001B[0;32m    341\u001B[0m     \u001B[38;5;28mself\u001B[39m\u001B[38;5;241m.\u001B[39mservice\u001B[38;5;241m.\u001B[39m_adjust_rate_limiters_from_headers(\n\u001B[0;32m    342\u001B[0m         app_limiter\u001B[38;5;241m=\u001B[39m\u001B[38;5;28mself\u001B[39m\u001B[38;5;241m.\u001B[39mapp_limiter,\n\u001B[0;32m    343\u001B[0m         method_limiter\u001B[38;5;241m=\u001B[39m\u001B[38;5;28mself\u001B[39m\u001B[38;5;241m.\u001B[39mmethod_limiter,\n\u001B[0;32m    344\u001B[0m         response_headers\u001B[38;5;241m=\u001B[39mresponse_headers,\n\u001B[0;32m    345\u001B[0m     )\n",
      "File \u001B[1;32m~\\PycharmProjects\\DraftReccomender\\venv\\lib\\site-packages\\cassiopeia\\datastores\\common.py:248\u001B[0m, in \u001B[0;36mHTTPClient.get\u001B[1;34m(self, url, parameters, headers, rate_limiters, connection, encode_parameters)\u001B[0m\n\u001B[0;32m    247\u001B[0m \u001B[38;5;28;01mif\u001B[39;00m r\u001B[38;5;241m.\u001B[39mstatus_code \u001B[38;5;241m>\u001B[39m\u001B[38;5;241m=\u001B[39m \u001B[38;5;241m400\u001B[39m:\n\u001B[1;32m--> 248\u001B[0m     \u001B[38;5;28;01mraise\u001B[39;00m HTTPError(r\u001B[38;5;241m.\u001B[39mreason, r\u001B[38;5;241m.\u001B[39mstatus_code, response_headers)\n\u001B[0;32m    250\u001B[0m content_type \u001B[38;5;241m=\u001B[39m response_headers\u001B[38;5;241m.\u001B[39mget(\n\u001B[0;32m    251\u001B[0m     \u001B[38;5;124m\"\u001B[39m\u001B[38;5;124mContent-Type\u001B[39m\u001B[38;5;124m\"\u001B[39m, \u001B[38;5;124m\"\u001B[39m\u001B[38;5;124mapplication/octet-stream\u001B[39m\u001B[38;5;124m\"\u001B[39m\n\u001B[0;32m    252\u001B[0m )\u001B[38;5;241m.\u001B[39mupper()\n",
      "\u001B[1;31mHTTPError\u001B[0m: Unauthorized",
      "\nDuring handling of the above exception, another exception occurred:\n",
      "\u001B[1;31mKeyError\u001B[0m                                  Traceback (most recent call last)",
      "Cell \u001B[1;32mIn[9], line 54\u001B[0m\n\u001B[0;32m     49\u001B[0m             unpulled_match_ids\u001B[38;5;241m.\u001B[39mremove(new_match_id)\n\u001B[0;32m     50\u001B[0m             pulled_match_ids\u001B[38;5;241m.\u001B[39madd(new_match_id)\n\u001B[1;32m---> 54\u001B[0m \u001B[43mcollect_matches\u001B[49m\u001B[43m(\u001B[49m\u001B[43m)\u001B[49m\n",
      "Cell \u001B[1;32mIn[9], line 19\u001B[0m, in \u001B[0;36mcollect_matches\u001B[1;34m()\u001B[0m\n\u001B[0;32m     16\u001B[0m region \u001B[38;5;241m=\u001B[39m \u001B[38;5;124m\"\u001B[39m\u001B[38;5;124mEUW\u001B[39m\u001B[38;5;124m\"\u001B[39m\n\u001B[0;32m     17\u001B[0m best_300_challenger \u001B[38;5;241m=\u001B[39m cass\u001B[38;5;241m.\u001B[39mget_challenger_league(queue\u001B[38;5;241m=\u001B[39mcass\u001B[38;5;241m.\u001B[39mQueue\u001B[38;5;241m.\u001B[39mranked_solo_fives, region\u001B[38;5;241m=\u001B[39mregion)\n\u001B[1;32m---> 19\u001B[0m summoner \u001B[38;5;241m=\u001B[39m \u001B[43mbest_300_challenger\u001B[49m\u001B[43m[\u001B[49m\u001B[38;5;241;43m0\u001B[39;49m\u001B[43m]\u001B[49m\u001B[38;5;241m.\u001B[39msummoner\n\u001B[0;32m     20\u001B[0m patch \u001B[38;5;241m=\u001B[39m Patch\u001B[38;5;241m.\u001B[39mfrom_str(\u001B[38;5;124m\"\u001B[39m\u001B[38;5;124m8.9\u001B[39m\u001B[38;5;124m\"\u001B[39m, region\u001B[38;5;241m=\u001B[39mregion)\n\u001B[0;32m     22\u001B[0m unpulled_summoner_ids \u001B[38;5;241m=\u001B[39m SortedList([summoner\u001B[38;5;241m.\u001B[39mid])\n",
      "File \u001B[1;32m~\\PycharmProjects\\DraftReccomender\\venv\\lib\\site-packages\\cassiopeia\\core\\league.py:447\u001B[0m, in \u001B[0;36mLeague.__getitem__\u001B[1;34m(self, item)\u001B[0m\n\u001B[0;32m    446\u001B[0m \u001B[38;5;28;01mdef\u001B[39;00m \u001B[38;5;21m__getitem__\u001B[39m(\u001B[38;5;28mself\u001B[39m, item):\n\u001B[1;32m--> 447\u001B[0m     \u001B[38;5;28;01mreturn\u001B[39;00m \u001B[38;5;28;43mself\u001B[39;49m\u001B[38;5;241;43m.\u001B[39;49m\u001B[43mentries\u001B[49m[item]\n",
      "File \u001B[1;32m~\\PycharmProjects\\DraftReccomender\\venv\\lib\\site-packages\\merakicommons\\ghost.py:90\u001B[0m, in \u001B[0;36mGhost.__property.__get__\u001B[1;34m(self, obj, obj_type)\u001B[0m\n\u001B[0;32m     88\u001B[0m \u001B[38;5;28;01mexcept\u001B[39;00m GhostLoadingRequiredError:\n\u001B[0;32m     89\u001B[0m     load_group \u001B[38;5;241m=\u001B[39m \u001B[38;5;28mself\u001B[39m\u001B[38;5;241m.\u001B[39mfget\u001B[38;5;241m.\u001B[39m_Ghost__load_group\n\u001B[1;32m---> 90\u001B[0m     \u001B[43mobj\u001B[49m\u001B[38;5;241;43m.\u001B[39;49m\u001B[43m__load__\u001B[49m\u001B[43m(\u001B[49m\u001B[43mload_group\u001B[49m\u001B[43m)\u001B[49m\n\u001B[0;32m     91\u001B[0m     obj\u001B[38;5;241m.\u001B[39m_Ghost__set_loaded(load_group)\n\u001B[0;32m     93\u001B[0m     \u001B[38;5;28;01mreturn\u001B[39;00m \u001B[38;5;28mself\u001B[39m\u001B[38;5;241m.\u001B[39mfget(obj)\n",
      "File \u001B[1;32m~\\PycharmProjects\\DraftReccomender\\venv\\lib\\site-packages\\cassiopeia\\core\\common.py:272\u001B[0m, in \u001B[0;36mCassiopeiaGhost.__load__\u001B[1;34m(self, load_group, load_groups)\u001B[0m\n\u001B[0;32m    264\u001B[0m \u001B[38;5;28;01mif\u001B[39;00m (\n\u001B[0;32m    265\u001B[0m     \u001B[38;5;28mhasattr\u001B[39m(\u001B[38;5;28mself\u001B[39m\u001B[38;5;241m.\u001B[39m\u001B[38;5;18m__class__\u001B[39m, \u001B[38;5;124m\"\u001B[39m\u001B[38;5;124mversion\u001B[39m\u001B[38;5;124m\"\u001B[39m)\n\u001B[0;32m    266\u001B[0m     \u001B[38;5;129;01mand\u001B[39;00m \u001B[38;5;124m\"\u001B[39m\u001B[38;5;124mversion\u001B[39m\u001B[38;5;124m\"\u001B[39m \u001B[38;5;129;01mnot\u001B[39;00m \u001B[38;5;129;01min\u001B[39;00m query\n\u001B[0;32m    267\u001B[0m     \u001B[38;5;129;01mand\u001B[39;00m \u001B[38;5;28mself\u001B[39m\u001B[38;5;241m.\u001B[39m\u001B[38;5;18m__class__\u001B[39m\u001B[38;5;241m.\u001B[39m\u001B[38;5;18m__name__\u001B[39m \u001B[38;5;129;01mnot\u001B[39;00m \u001B[38;5;129;01min\u001B[39;00m [\u001B[38;5;124m\"\u001B[39m\u001B[38;5;124mRealms\u001B[39m\u001B[38;5;124m\"\u001B[39m, \u001B[38;5;124m\"\u001B[39m\u001B[38;5;124mMatch\u001B[39m\u001B[38;5;124m\"\u001B[39m]\n\u001B[0;32m    268\u001B[0m ):\n\u001B[0;32m    269\u001B[0m     query[\u001B[38;5;124m\"\u001B[39m\u001B[38;5;124mversion\u001B[39m\u001B[38;5;124m\"\u001B[39m] \u001B[38;5;241m=\u001B[39m get_latest_version(\n\u001B[0;32m    270\u001B[0m         region\u001B[38;5;241m=\u001B[39mquery[\u001B[38;5;124m\"\u001B[39m\u001B[38;5;124mregion\u001B[39m\u001B[38;5;124m\"\u001B[39m], endpoint\u001B[38;5;241m=\u001B[39m\u001B[38;5;28;01mNone\u001B[39;00m\n\u001B[0;32m    271\u001B[0m     )\n\u001B[1;32m--> 272\u001B[0m data \u001B[38;5;241m=\u001B[39m \u001B[43mconfiguration\u001B[49m\u001B[38;5;241;43m.\u001B[39;49m\u001B[43msettings\u001B[49m\u001B[38;5;241;43m.\u001B[39;49m\u001B[43mpipeline\u001B[49m\u001B[38;5;241;43m.\u001B[39;49m\u001B[43mget\u001B[49m\u001B[43m(\u001B[49m\n\u001B[0;32m    273\u001B[0m \u001B[43m    \u001B[49m\u001B[38;5;28;43mtype\u001B[39;49m\u001B[38;5;241;43m=\u001B[39;49m\u001B[38;5;28;43mself\u001B[39;49m\u001B[38;5;241;43m.\u001B[39;49m\u001B[43m_load_types\u001B[49m\u001B[43m[\u001B[49m\u001B[43mload_group\u001B[49m\u001B[43m]\u001B[49m\u001B[43m,\u001B[49m\u001B[43m \u001B[49m\u001B[43mquery\u001B[49m\u001B[38;5;241;43m=\u001B[39;49m\u001B[43mquery\u001B[49m\n\u001B[0;32m    274\u001B[0m \u001B[43m\u001B[49m\u001B[43m)\u001B[49m\n\u001B[0;32m    275\u001B[0m \u001B[38;5;28mself\u001B[39m\u001B[38;5;241m.\u001B[39m__load_hook__(load_group, data)\n",
      "File \u001B[1;32m~\\PycharmProjects\\DraftReccomender\\venv\\lib\\site-packages\\datapipelines\\pipelines.py:459\u001B[0m, in \u001B[0;36mDataPipeline.get\u001B[1;34m(self, type, query)\u001B[0m\n\u001B[0;32m    457\u001B[0m \u001B[38;5;28;01mfor\u001B[39;00m handler \u001B[38;5;129;01min\u001B[39;00m handlers:\n\u001B[0;32m    458\u001B[0m     \u001B[38;5;28;01mtry\u001B[39;00m:\n\u001B[1;32m--> 459\u001B[0m         \u001B[38;5;28;01mreturn\u001B[39;00m \u001B[43mhandler\u001B[49m\u001B[38;5;241;43m.\u001B[39;49m\u001B[43mget\u001B[49m\u001B[43m(\u001B[49m\u001B[43mquery\u001B[49m\u001B[43m,\u001B[49m\u001B[43m \u001B[49m\u001B[43mcontext\u001B[49m\u001B[43m)\u001B[49m\n\u001B[0;32m    460\u001B[0m     \u001B[38;5;28;01mexcept\u001B[39;00m NotFoundError:\n\u001B[0;32m    461\u001B[0m         \u001B[38;5;28;01mpass\u001B[39;00m\n",
      "File \u001B[1;32m~\\PycharmProjects\\DraftReccomender\\venv\\lib\\site-packages\\datapipelines\\pipelines.py:185\u001B[0m, in \u001B[0;36m_SourceHandler.get\u001B[1;34m(self, query, context)\u001B[0m\n\u001B[0;32m    170\u001B[0m \u001B[38;5;28;01mdef\u001B[39;00m \u001B[38;5;21mget\u001B[39m(\u001B[38;5;28mself\u001B[39m, query: Mapping[\u001B[38;5;28mstr\u001B[39m, Any], context: PipelineContext \u001B[38;5;241m=\u001B[39m \u001B[38;5;28;01mNone\u001B[39;00m) \u001B[38;5;241m-\u001B[39m\u001B[38;5;241m>\u001B[39m T:\n\u001B[0;32m    171\u001B[0m     \u001B[38;5;124;03m\"\"\"Gets a query from the data source.\u001B[39;00m\n\u001B[0;32m    172\u001B[0m \n\u001B[0;32m    173\u001B[0m \u001B[38;5;124;03m    1) Extracts the query from the data source.\u001B[39;00m\n\u001B[1;32m   (...)\u001B[0m\n\u001B[0;32m    183\u001B[0m \u001B[38;5;124;03m        The requested object.\u001B[39;00m\n\u001B[0;32m    184\u001B[0m \u001B[38;5;124;03m    \"\"\"\u001B[39;00m\n\u001B[1;32m--> 185\u001B[0m     result \u001B[38;5;241m=\u001B[39m \u001B[38;5;28;43mself\u001B[39;49m\u001B[38;5;241;43m.\u001B[39;49m\u001B[43m_source\u001B[49m\u001B[38;5;241;43m.\u001B[39;49m\u001B[43mget\u001B[49m\u001B[43m(\u001B[49m\u001B[38;5;28;43mself\u001B[39;49m\u001B[38;5;241;43m.\u001B[39;49m\u001B[43m_source_type\u001B[49m\u001B[43m,\u001B[49m\u001B[43m \u001B[49m\u001B[43mdeepcopy\u001B[49m\u001B[43m(\u001B[49m\u001B[43mquery\u001B[49m\u001B[43m)\u001B[49m\u001B[43m,\u001B[49m\u001B[43m \u001B[49m\u001B[43mcontext\u001B[49m\u001B[43m)\u001B[49m\n\u001B[0;32m    186\u001B[0m     LOGGER\u001B[38;5;241m.\u001B[39minfo(\u001B[38;5;124m\"\u001B[39m\u001B[38;5;124mGot result \u001B[39m\u001B[38;5;130;01m\\\"\u001B[39;00m\u001B[38;5;132;01m{result}\u001B[39;00m\u001B[38;5;130;01m\\\"\u001B[39;00m\u001B[38;5;124m from query \u001B[39m\u001B[38;5;130;01m\\\"\u001B[39;00m\u001B[38;5;132;01m{query}\u001B[39;00m\u001B[38;5;130;01m\\\"\u001B[39;00m\u001B[38;5;124m of source \u001B[39m\u001B[38;5;130;01m\\\"\u001B[39;00m\u001B[38;5;132;01m{source}\u001B[39;00m\u001B[38;5;130;01m\\\"\u001B[39;00m\u001B[38;5;124m\"\u001B[39m\u001B[38;5;241m.\u001B[39mformat(result\u001B[38;5;241m=\u001B[39mresult, query\u001B[38;5;241m=\u001B[39mquery, source\u001B[38;5;241m=\u001B[39m\u001B[38;5;28mself\u001B[39m\u001B[38;5;241m.\u001B[39m_source))\n\u001B[0;32m    188\u001B[0m     LOGGER\u001B[38;5;241m.\u001B[39minfo(\u001B[38;5;124m\"\u001B[39m\u001B[38;5;124mSending result \u001B[39m\u001B[38;5;130;01m\\\"\u001B[39;00m\u001B[38;5;132;01m{result}\u001B[39;00m\u001B[38;5;130;01m\\\"\u001B[39;00m\u001B[38;5;124m to sinks before converting\u001B[39m\u001B[38;5;124m\"\u001B[39m\u001B[38;5;241m.\u001B[39mformat(result\u001B[38;5;241m=\u001B[39mresult))\n",
      "File \u001B[1;32m~\\PycharmProjects\\DraftReccomender\\venv\\lib\\site-packages\\datapipelines\\sources.py:120\u001B[0m, in \u001B[0;36mCompositeDataSource.get\u001B[1;34m(self, type, query, context)\u001B[0m\n\u001B[0;32m    118\u001B[0m \u001B[38;5;28;01mfor\u001B[39;00m source \u001B[38;5;129;01min\u001B[39;00m sources:\n\u001B[0;32m    119\u001B[0m     \u001B[38;5;28;01mtry\u001B[39;00m:\n\u001B[1;32m--> 120\u001B[0m         \u001B[38;5;28;01mreturn\u001B[39;00m \u001B[43msource\u001B[49m\u001B[38;5;241;43m.\u001B[39;49m\u001B[43mget\u001B[49m\u001B[43m(\u001B[49m\u001B[38;5;28;43mtype\u001B[39;49m\u001B[43m,\u001B[49m\u001B[43m \u001B[49m\u001B[43mdeepcopy\u001B[49m\u001B[43m(\u001B[49m\u001B[43mquery\u001B[49m\u001B[43m)\u001B[49m\u001B[43m,\u001B[49m\u001B[43m \u001B[49m\u001B[43mcontext\u001B[49m\u001B[43m)\u001B[49m\n\u001B[0;32m    121\u001B[0m     \u001B[38;5;28;01mexcept\u001B[39;00m NotFoundError:\n\u001B[0;32m    122\u001B[0m         \u001B[38;5;28;01mcontinue\u001B[39;00m\n",
      "File \u001B[1;32m~\\PycharmProjects\\DraftReccomender\\venv\\lib\\site-packages\\datapipelines\\sources.py:69\u001B[0m, in \u001B[0;36mDataSource.dispatch.<locals>.wrapper\u001B[1;34m(self, type, query, context)\u001B[0m\n\u001B[0;32m     67\u001B[0m call \u001B[38;5;241m=\u001B[39m dispatcher\u001B[38;5;241m.\u001B[39mdispatch(\u001B[38;5;28mtype\u001B[39m)\n\u001B[0;32m     68\u001B[0m \u001B[38;5;28;01mtry\u001B[39;00m:\n\u001B[1;32m---> 69\u001B[0m     \u001B[38;5;28;01mreturn\u001B[39;00m \u001B[43mcall\u001B[49m\u001B[43m(\u001B[49m\u001B[38;5;28;43mself\u001B[39;49m\u001B[43m,\u001B[49m\u001B[43m \u001B[49m\u001B[43mquery\u001B[49m\u001B[43m,\u001B[49m\u001B[43m \u001B[49m\u001B[43mcontext\u001B[49m\u001B[38;5;241;43m=\u001B[39;49m\u001B[43mcontext\u001B[49m\u001B[43m)\u001B[49m\n\u001B[0;32m     70\u001B[0m \u001B[38;5;28;01mexcept\u001B[39;00m \u001B[38;5;167;01mTypeError\u001B[39;00m:\n\u001B[0;32m     71\u001B[0m     \u001B[38;5;28;01mraise\u001B[39;00m DataSource\u001B[38;5;241m.\u001B[39munsupported(\u001B[38;5;28mtype\u001B[39m)\n",
      "File \u001B[1;32m~\\PycharmProjects\\DraftReccomender\\venv\\lib\\site-packages\\datapipelines\\queries.py:326\u001B[0m, in \u001B[0;36mvalidate_query.<locals>.wrapper.<locals>.wrapped\u001B[1;34m(self, query, context)\u001B[0m\n\u001B[0;32m    323\u001B[0m     transform(query)\n\u001B[0;32m    325\u001B[0m validator(query)\n\u001B[1;32m--> 326\u001B[0m \u001B[38;5;28;01mreturn\u001B[39;00m \u001B[43mmethod\u001B[49m\u001B[43m(\u001B[49m\u001B[38;5;28;43mself\u001B[39;49m\u001B[43m,\u001B[49m\u001B[43m \u001B[49m\u001B[43mquery\u001B[49m\u001B[43m,\u001B[49m\u001B[43m \u001B[49m\u001B[43mcontext\u001B[49m\u001B[43m)\u001B[49m\n",
      "File \u001B[1;32m~\\PycharmProjects\\DraftReccomender\\venv\\lib\\site-packages\\cassiopeia\\datastores\\riotapi\\leagues.py:207\u001B[0m, in \u001B[0;36mLeaguesAPI.get_challenger_league_list\u001B[1;34m(self, query, context)\u001B[0m\n\u001B[0;32m    203\u001B[0m     endpoint \u001B[38;5;241m=\u001B[39m \u001B[38;5;124m\"\u001B[39m\u001B[38;5;124mchallengerleagues/by-queue \u001B[39m\u001B[38;5;132;01m{}\u001B[39;00m\u001B[38;5;124m\"\u001B[39m\u001B[38;5;241m.\u001B[39mformat(query[\u001B[38;5;124m\"\u001B[39m\u001B[38;5;124mplatform\u001B[39m\u001B[38;5;124m\"\u001B[39m]\u001B[38;5;241m.\u001B[39mvalue)\n\u001B[0;32m    204\u001B[0m     app_limiter, method_limiter \u001B[38;5;241m=\u001B[39m \u001B[38;5;28mself\u001B[39m\u001B[38;5;241m.\u001B[39m_get_rate_limiter(\n\u001B[0;32m    205\u001B[0m         query[\u001B[38;5;124m\"\u001B[39m\u001B[38;5;124mplatform\u001B[39m\u001B[38;5;124m\"\u001B[39m], endpoint\n\u001B[0;32m    206\u001B[0m     )\n\u001B[1;32m--> 207\u001B[0m     data \u001B[38;5;241m=\u001B[39m \u001B[38;5;28;43mself\u001B[39;49m\u001B[38;5;241;43m.\u001B[39;49m\u001B[43m_get\u001B[49m\u001B[43m(\u001B[49m\n\u001B[0;32m    208\u001B[0m \u001B[43m        \u001B[49m\u001B[43murl\u001B[49m\u001B[43m,\u001B[49m\u001B[43m \u001B[49m\u001B[43m{\u001B[49m\u001B[43m}\u001B[49m\u001B[43m,\u001B[49m\u001B[43m \u001B[49m\u001B[43mapp_limiter\u001B[49m\u001B[38;5;241;43m=\u001B[39;49m\u001B[43mapp_limiter\u001B[49m\u001B[43m,\u001B[49m\u001B[43m \u001B[49m\u001B[43mmethod_limiter\u001B[49m\u001B[38;5;241;43m=\u001B[39;49m\u001B[43mmethod_limiter\u001B[49m\n\u001B[0;32m    209\u001B[0m \u001B[43m    \u001B[49m\u001B[43m)\u001B[49m\n\u001B[0;32m    210\u001B[0m \u001B[38;5;28;01mexcept\u001B[39;00m APINotFoundError \u001B[38;5;28;01mas\u001B[39;00m error:\n\u001B[0;32m    211\u001B[0m     \u001B[38;5;28;01mraise\u001B[39;00m NotFoundError(\u001B[38;5;28mstr\u001B[39m(error)) \u001B[38;5;28;01mfrom\u001B[39;00m \u001B[38;5;21;01merror\u001B[39;00m\n",
      "File \u001B[1;32m~\\PycharmProjects\\DraftReccomender\\venv\\lib\\site-packages\\cassiopeia\\datastores\\riotapi\\common.py:253\u001B[0m, in \u001B[0;36mRiotAPIService._get\u001B[1;34m(self, url, parameters, app_limiter, method_limiter, connection)\u001B[0m\n\u001B[0;32m    244\u001B[0m request \u001B[38;5;241m=\u001B[39m RiotAPIRequest(\n\u001B[0;32m    245\u001B[0m     service\u001B[38;5;241m=\u001B[39m\u001B[38;5;28mself\u001B[39m,\n\u001B[0;32m    246\u001B[0m     url\u001B[38;5;241m=\u001B[39murl,\n\u001B[1;32m   (...)\u001B[0m\n\u001B[0;32m    250\u001B[0m     connection\u001B[38;5;241m=\u001B[39mconnection,\n\u001B[0;32m    251\u001B[0m )\n\u001B[0;32m    252\u001B[0m \u001B[38;5;28;01mtry\u001B[39;00m:\n\u001B[1;32m--> 253\u001B[0m     \u001B[38;5;28;01mreturn\u001B[39;00m \u001B[43mrequest\u001B[49m\u001B[43m(\u001B[49m\u001B[43m)\u001B[49m\n\u001B[0;32m    254\u001B[0m \u001B[38;5;28;01mexcept\u001B[39;00m HTTPError \u001B[38;5;28;01mas\u001B[39;00m error:\n\u001B[0;32m    255\u001B[0m     \u001B[38;5;66;03m# The error handlers didn't work, so raise an appropriate error.\u001B[39;00m\n\u001B[0;32m    256\u001B[0m     new_error_type \u001B[38;5;241m=\u001B[39m _ERROR_CODES[error\u001B[38;5;241m.\u001B[39mcode]\n",
      "File \u001B[1;32m~\\PycharmProjects\\DraftReccomender\\venv\\lib\\site-packages\\cassiopeia\\datastores\\riotapi\\common.py:348\u001B[0m, in \u001B[0;36mRiotAPIRequest.__call__\u001B[1;34m(self)\u001B[0m\n\u001B[0;32m    346\u001B[0m     \u001B[38;5;28;01mreturn\u001B[39;00m body\n\u001B[0;32m    347\u001B[0m \u001B[38;5;28;01mexcept\u001B[39;00m HTTPError \u001B[38;5;28;01mas\u001B[39;00m error:\n\u001B[1;32m--> 348\u001B[0m     \u001B[38;5;28;01mreturn\u001B[39;00m \u001B[38;5;28;43mself\u001B[39;49m\u001B[38;5;241;43m.\u001B[39;49m\u001B[43m_retry_request_by_handling_error\u001B[49m\u001B[43m(\u001B[49m\u001B[43merror\u001B[49m\u001B[43m)\u001B[49m\n",
      "File \u001B[1;32m~\\PycharmProjects\\DraftReccomender\\venv\\lib\\site-packages\\cassiopeia\\datastores\\riotapi\\common.py:376\u001B[0m, in \u001B[0;36mRiotAPIRequest._retry_request_by_handling_error\u001B[1;34m(self, error, handlers)\u001B[0m\n\u001B[0;32m    372\u001B[0m     new_handler \u001B[38;5;241m=\u001B[39m \u001B[38;5;28mself\u001B[39m\u001B[38;5;241m.\u001B[39mservice\u001B[38;5;241m.\u001B[39m_handlers[\u001B[38;5;241m429\u001B[39m][\n\u001B[0;32m    373\u001B[0m         rate_limiting_type\n\u001B[0;32m    374\u001B[0m     ]()  \u001B[38;5;66;03m# type: FailedRequestHandler\u001B[39;00m\n\u001B[0;32m    375\u001B[0m \u001B[38;5;28;01melse\u001B[39;00m:\n\u001B[1;32m--> 376\u001B[0m     new_handler \u001B[38;5;241m=\u001B[39m \u001B[38;5;28;43mself\u001B[39;49m\u001B[38;5;241;43m.\u001B[39;49m\u001B[43mservice\u001B[49m\u001B[38;5;241;43m.\u001B[39;49m\u001B[43m_handlers\u001B[49m\u001B[43m[\u001B[49m\u001B[43merror\u001B[49m\u001B[38;5;241;43m.\u001B[39;49m\u001B[43mcode\u001B[49m\u001B[43m]\u001B[49m()\n\u001B[0;32m    378\u001B[0m \u001B[38;5;66;03m# If we will handle the new error in the same way as we did previously, don't use a new instance\u001B[39;00m\n\u001B[0;32m    379\u001B[0m \u001B[38;5;28;01mfor\u001B[39;00m handler \u001B[38;5;129;01min\u001B[39;00m handlers:\n",
      "\u001B[1;31mKeyError\u001B[0m: 401"
     ]
    }
   ],
   "source": [
    "def filter_match_history(summoner, patch):\n",
    "    end_time = patch.end\n",
    "    if end_time is None:\n",
    "        end_time = arrow.now()\n",
    "    match_history = MatchHistory(\n",
    "        puuid=summoner.puuid,\n",
    "        queue=Queue.ranked_solo_fives,\n",
    "        start_time=patch.start,\n",
    "        end_time=end_time,\n",
    "        continent=Continent.europe\n",
    "    )\n",
    "    return match_history\n",
    "\n",
    "\n",
    "def collect_matches():\n",
    "    region = \"EUW\"\n",
    "    best_300_challenger = cass.get_challenger_league(queue=cass.Queue.ranked_solo_fives, region=region)\n",
    "\n",
    "    summoner = best_300_challenger[0].summoner\n",
    "    patch = Patch.from_str(\"8.9\", region=region)\n",
    "\n",
    "    unpulled_summoner_ids = SortedList([summoner.id])\n",
    "    pulled_summoner_ids = SortedList()\n",
    "\n",
    "    unpulled_match_ids = SortedList()\n",
    "    pulled_match_ids = SortedList()\n",
    "\n",
    "    while unpulled_summoner_ids:\n",
    "        # Get a random summoner from our list of unpulled summoners and pull their match history\n",
    "        new_summoner_id = random.choice(unpulled_summoner_ids)\n",
    "        new_summoner = Summoner(id=new_summoner_id, region=region)\n",
    "        matches = filter_match_history(new_summoner, patch)\n",
    "        unpulled_match_ids.update([match.id for match in matches])\n",
    "        unpulled_summoner_ids.remove(new_summoner_id)\n",
    "        pulled_summoner_ids.add(new_summoner_id)\n",
    "\n",
    "        while unpulled_match_ids:\n",
    "            # Get a random match from our list of matches\n",
    "            new_match_id = random.choice(unpulled_match_ids)\n",
    "            new_match = Match(id=new_match_id, region=region)\n",
    "            for participant in new_match.participants:\n",
    "                if (\n",
    "                        participant.summoner.id not in pulled_summoner_ids\n",
    "                        and participant.summoner.id not in unpulled_summoner_ids\n",
    "                ):\n",
    "                    unpulled_summoner_ids.add(participant.summoner.id)\n",
    "            # The above lines will trigger the match to load its data by iterating over all the participants.\n",
    "            # If you have a database in your datapipeline, the match will automatically be stored in it.\n",
    "            unpulled_match_ids.remove(new_match_id)\n",
    "            pulled_match_ids.add(new_match_id)\n",
    "\n",
    "\n",
    "\n",
    "collect_matches()"
   ]
  },
  {
   "cell_type": "code",
   "execution_count": null,
   "outputs": [],
   "source": [],
   "metadata": {
    "collapsed": false
   }
  }
 ],
 "metadata": {
  "kernelspec": {
   "display_name": "Python 3",
   "language": "python",
   "name": "python3"
  },
  "language_info": {
   "codemirror_mode": {
    "name": "ipython",
    "version": 2
   },
   "file_extension": ".py",
   "mimetype": "text/x-python",
   "name": "python",
   "nbconvert_exporter": "python",
   "pygments_lexer": "ipython2",
   "version": "2.7.6"
  }
 },
 "nbformat": 4,
 "nbformat_minor": 0
}
