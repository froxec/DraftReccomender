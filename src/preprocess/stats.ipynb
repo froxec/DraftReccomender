{
 "cells": [
  {
   "cell_type": "code",
   "execution_count": 1,
   "id": "1b248d94",
   "metadata": {},
   "outputs": [],
   "source": [
    "import json"
   ]
  },
  {
   "cell_type": "code",
   "execution_count": 2,
   "id": "bab97bfc",
   "metadata": {},
   "outputs": [],
   "source": [
    "stats_dict = {}"
   ]
  },
  {
   "cell_type": "code",
   "execution_count": 3,
   "id": "75c7cb92",
   "metadata": {},
   "outputs": [],
   "source": [
    "stats_dict['kda'] = 0\n",
    "stats_dict['largestkillingspree'] = 1\n",
    "stats_dict['largestmultikill'] = 2\n",
    "stats_dict['killingsprees'] = 3\n",
    "stats_dict['longestliving'] = 4\n",
    "stats_dict['doublekills'] = 5\n",
    "stats_dict['triplekills'] = 6\n",
    "stats_dict['quadrakills'] = 7\n",
    "stats_dict['pentakills'] = 8\n",
    "stats_dict['unrealkills'] = 9\n",
    "stats_dict['totaldamagedealt'] = 10\n",
    "stats_dict['magicdamagedealt'] = 11\n",
    "stats_dict['physicaldamagedealt'] = 12\n",
    "stats_dict['truedamagedealt'] = 13\n",
    "stats_dict['largestcriticalstrike'] = 14\n",
    "stats_dict['totaldamagedealttochampions'] = 15\n",
    "stats_dict['magicdamagedealttochampions'] = 16\n",
    "stats_dict['physicaldamagedealttochampions'] = 17\n",
    "stats_dict['truedamagedealttochampions'] = 18\n",
    "stats_dict['totalheal'] = 19\n",
    "stats_dict['totalunitsheald'] = 20\n",
    "stats_dict['damageselfmitigated'] = 21\n",
    "stats_dict['damagedealttoobjectives'] = 22\n",
    "stats_dict['damagedealttoturrets'] = 23\n",
    "stats_dict['visionscore'] = 24\n",
    "stats_dict['timeccingothers'] = 25\n",
    "stats_dict['totaldamagetaken'] = 26\n",
    "stats_dict['magicaldamagetaken'] = 27\n",
    "stats_dict['physicaldamagetaken'] = 28\n",
    "stats_dict['truedamagetaken'] = 29\n",
    "stats_dict['goldearned'] = 30\n",
    "stats_dict['goldspent'] = 31\n",
    "stats_dict['turretkills'] = 32\n",
    "stats_dict['inhibitorkills'] = 33\n",
    "stats_dict['totalminionskilled'] = 34\n",
    "stats_dict['neutralminionskilled'] = 35\n",
    "stats_dict['neturalminionskilledteamjungle'] = 36\n",
    "stats_dict['neturalminionskilledmyjungle'] = 37\n",
    "stats_dict['totalcrowdcontorldealt'] = 38\n",
    "stats_dict['visionwardsboughtingame'] = 39\n",
    "stats_dict['sightwardsboughtingame'] = 40\n",
    "stats_dict['wardsplaced'] = 41\n",
    "stats_dict['wardskilled'] = 42"
   ]
  },
  {
   "cell_type": "code",
   "execution_count": null,
   "id": "e50ad37f",
   "metadata": {},
   "outputs": [],
   "source": [
    "stats"
   ]
  }
 ],
 "metadata": {
  "kernelspec": {
   "display_name": "Python 3 (ipykernel)",
   "language": "python",
   "name": "python3"
  },
  "language_info": {
   "codemirror_mode": {
    "name": "ipython",
    "version": 3
   },
   "file_extension": ".py",
   "mimetype": "text/x-python",
   "name": "python",
   "nbconvert_exporter": "python",
   "pygments_lexer": "ipython3",
   "version": "3.9.7"
  }
 },
 "nbformat": 4,
 "nbformat_minor": 5
}
